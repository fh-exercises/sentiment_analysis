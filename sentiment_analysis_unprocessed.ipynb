{
 "cells": [
  {
   "cell_type": "markdown",
   "id": "1adee4ae-a31c-4050-ade1-22d9ba5401b7",
   "metadata": {},
   "source": [
    "# Sentiment Analysis"
   ]
  },
  {
   "cell_type": "markdown",
   "id": "9769d694-a82a-4bee-b934-b5178b5e26c1",
   "metadata": {},
   "source": [
    "In this notebook we will look at sentiment classification. For this we will use the IMDB dataset. This dataset consists of positive and negative movie reviews of the IMDB website"
   ]
  },
  {
   "cell_type": "markdown",
   "id": "10d4b805-2a36-48c8-bc24-4675dade847a",
   "metadata": {},
   "source": [
    "## Data modeling\n",
    "\n",
    "The first step would be to collect the necessary data this has already be take care of through the csv file. But since we did not collect the data ourselves we have to make ourselves familiar with the data."
   ]
  },
  {
   "cell_type": "markdown",
   "id": "f0c30e70-ade4-4750-9c90-1ae63618513e",
   "metadata": {},
   "source": [
    "### Visualize, Visualize, Visualize"
   ]
  },
  {
   "cell_type": "code",
   "execution_count": 1,
   "id": "d89da780-a4f5-419f-a248-b55214e09d8f",
   "metadata": {},
   "outputs": [],
   "source": [
    "import pandas as pd\n",
    "import matplotlib.pyplot as plt\n",
    "import os\n",
    "os.environ['TF_CPP_MIN_LOG_LEVEL'] = '3'"
   ]
  },
  {
   "cell_type": "code",
   "execution_count": 2,
   "id": "e881e1f8-f23f-4f69-89db-0bc017feac6d",
   "metadata": {},
   "outputs": [],
   "source": [
    "# lets load our data\n",
    "df_raw = pd.read_csv('IMDB Dataset.csv')"
   ]
  },
  {
   "cell_type": "markdown",
   "id": "6790da95-b9c0-41c1-a910-ed3cf14e6521",
   "metadata": {},
   "source": [
    "Pandas already gives us a lot of possibilities to investigate our data "
   ]
  },
  {
   "cell_type": "code",
   "execution_count": 3,
   "id": "273a127f-1872-476c-bf8d-87d2965e3d5b",
   "metadata": {},
   "outputs": [
    {
     "data": {
      "text/html": [
       "<div>\n",
       "<style scoped>\n",
       "    .dataframe tbody tr th:only-of-type {\n",
       "        vertical-align: middle;\n",
       "    }\n",
       "\n",
       "    .dataframe tbody tr th {\n",
       "        vertical-align: top;\n",
       "    }\n",
       "\n",
       "    .dataframe thead th {\n",
       "        text-align: right;\n",
       "    }\n",
       "</style>\n",
       "<table border=\"1\" class=\"dataframe\">\n",
       "  <thead>\n",
       "    <tr style=\"text-align: right;\">\n",
       "      <th></th>\n",
       "      <th>review</th>\n",
       "      <th>sentiment</th>\n",
       "    </tr>\n",
       "  </thead>\n",
       "  <tbody>\n",
       "    <tr>\n",
       "      <th>0</th>\n",
       "      <td>One of the other reviewers has mentioned that ...</td>\n",
       "      <td>positive</td>\n",
       "    </tr>\n",
       "    <tr>\n",
       "      <th>1</th>\n",
       "      <td>A wonderful little production. &lt;br /&gt;&lt;br /&gt;The...</td>\n",
       "      <td>positive</td>\n",
       "    </tr>\n",
       "    <tr>\n",
       "      <th>2</th>\n",
       "      <td>I thought this was a wonderful way to spend ti...</td>\n",
       "      <td>positive</td>\n",
       "    </tr>\n",
       "    <tr>\n",
       "      <th>3</th>\n",
       "      <td>Basically there's a family where a little boy ...</td>\n",
       "      <td>negative</td>\n",
       "    </tr>\n",
       "    <tr>\n",
       "      <th>4</th>\n",
       "      <td>Petter Mattei's \"Love in the Time of Money\" is...</td>\n",
       "      <td>positive</td>\n",
       "    </tr>\n",
       "  </tbody>\n",
       "</table>\n",
       "</div>"
      ],
      "text/plain": [
       "                                              review sentiment\n",
       "0  One of the other reviewers has mentioned that ...  positive\n",
       "1  A wonderful little production. <br /><br />The...  positive\n",
       "2  I thought this was a wonderful way to spend ti...  positive\n",
       "3  Basically there's a family where a little boy ...  negative\n",
       "4  Petter Mattei's \"Love in the Time of Money\" is...  positive"
      ]
     },
     "execution_count": 3,
     "metadata": {},
     "output_type": "execute_result"
    }
   ],
   "source": [
    "df_raw.head()"
   ]
  },
  {
   "cell_type": "code",
   "execution_count": 4,
   "id": "b64fec24-46d5-40e6-8144-f57959a047b8",
   "metadata": {},
   "outputs": [
    {
     "data": {
      "text/plain": [
       "<bound method DataFrame.info of                                                   review sentiment\n",
       "0      One of the other reviewers has mentioned that ...  positive\n",
       "1      A wonderful little production. <br /><br />The...  positive\n",
       "2      I thought this was a wonderful way to spend ti...  positive\n",
       "3      Basically there's a family where a little boy ...  negative\n",
       "4      Petter Mattei's \"Love in the Time of Money\" is...  positive\n",
       "...                                                  ...       ...\n",
       "49995  I thought this movie did a down right good job...  positive\n",
       "49996  Bad plot, bad dialogue, bad acting, idiotic di...  negative\n",
       "49997  I am a Catholic taught in parochial elementary...  negative\n",
       "49998  I'm going to have to disagree with the previou...  negative\n",
       "49999  No one expects the Star Trek movies to be high...  negative\n",
       "\n",
       "[50000 rows x 2 columns]>"
      ]
     },
     "execution_count": 4,
     "metadata": {},
     "output_type": "execute_result"
    }
   ],
   "source": [
    "df_raw.info"
   ]
  },
  {
   "cell_type": "markdown",
   "id": "af132aa6-cb6a-4ac9-b0c1-01ea0e9de90d",
   "metadata": {},
   "source": [
    "As we can see the data in the csv file contains 5000 reviews and each of the review has a associated sentiment score of either positive or negative.  \n",
    "Next we can also count how many samples are positive and negative in our dataset"
   ]
  },
  {
   "cell_type": "code",
   "execution_count": 5,
   "id": "71f912ff-f1af-439e-985a-4709781f1480",
   "metadata": {},
   "outputs": [
    {
     "data": {
      "text/plain": [
       "positive    25000\n",
       "negative    25000\n",
       "Name: sentiment, dtype: int64"
      ]
     },
     "execution_count": 5,
     "metadata": {},
     "output_type": "execute_result"
    }
   ],
   "source": [
    "df_raw['sentiment'].value_counts()"
   ]
  },
  {
   "cell_type": "code",
   "execution_count": 6,
   "id": "548d3b37-919d-42f4-bd45-73495060abed",
   "metadata": {},
   "outputs": [
    {
     "data": {
      "text/plain": [
       "\"One of the other reviewers has mentioned that after watching just 1 Oz episode you'll be hooked. They are right, as this is exactly what happened with me.<br /><br />The first thing that struck me about Oz was its brutality and unflinching scenes of violence, which set in right from the word GO. Trust me, this is not a show for the faint hearted or timid. This show pulls no punches with regards to drugs, sex or violence. Its is hardcore, in the classic use of the word.<br /><br />It is called OZ as that is the nickname given to the Oswald Maximum Security State Penitentary. It focuses mainly on Emerald City, an experimental section of the prison where all the cells have glass fronts and face inwards, so privacy is not high on the agenda. Em City is home to many..Aryans, Muslims, gangstas, Latinos, Christians, Italians, Irish and more....so scuffles, death stares, dodgy dealings and shady agreements are never far away.<br /><br />I would say the main appeal of the show is due to the fact that it goes where other shows wouldn't dare. Forget pretty pictures painted for mainstream audiences, forget charm, forget romance...OZ doesn't mess around. The first episode I ever saw struck me as so nasty it was surreal, I couldn't say I was ready for it, but as I watched more, I developed a taste for Oz, and got accustomed to the high levels of graphic violence. Not just violence, but injustice (crooked guards who'll be sold out for a nickel, inmates who'll kill on order and get away with it, well mannered, middle class inmates being turned into prison bitches due to their lack of street skills or prison experience) Watching Oz, you may become comfortable with what is uncomfortable viewing....thats if you can get in touch with your darker side.\""
      ]
     },
     "execution_count": 6,
     "metadata": {},
     "output_type": "execute_result"
    }
   ],
   "source": [
    "df_raw['review'][0]"
   ]
  },
  {
   "cell_type": "markdown",
   "id": "7299ad21-772d-4526-99f5-59487ae5c19f",
   "metadata": {},
   "source": [
    "We can also use NLTK and matplotlib to help with visualization"
   ]
  },
  {
   "cell_type": "markdown",
   "id": "d2c3f713-2fa6-4354-be0b-2227d086e580",
   "metadata": {},
   "source": [
    "## Sentiment Analysis using spaCy and textblob "
   ]
  },
  {
   "cell_type": "code",
   "execution_count": 56,
   "id": "79670426-2cff-45b2-9fd3-14fdccb30fe3",
   "metadata": {},
   "outputs": [
    {
     "data": {
      "text/plain": [
       "<spacytextblob.spacytextblob.SpacyTextBlob at 0x7f15ee263610>"
      ]
     },
     "execution_count": 56,
     "metadata": {},
     "output_type": "execute_result"
    }
   ],
   "source": [
    "import spacy\n",
    "from spacytextblob.spacytextblob import SpacyTextBlob\n",
    "\n",
    "nlp = spacy.load('en_core_web_lg')\n",
    "nlp.add_pipe('spacytextblob')"
   ]
  },
  {
   "cell_type": "code",
   "execution_count": 57,
   "id": "946a27a5-75fe-4427-bc17-e6667f3f1284",
   "metadata": {},
   "outputs": [],
   "source": [
    "df_spacy = df_raw.copy()"
   ]
  },
  {
   "cell_type": "code",
   "execution_count": 58,
   "id": "6dd2f5a6-3fb2-4109-b2d9-587f173b0dee",
   "metadata": {},
   "outputs": [
    {
     "name": "stdout",
     "output_type": "stream",
     "text": [
      "CPU times: user 9min 56s, sys: 4.64 s, total: 10min 1s\n",
      "Wall time: 10min\n"
     ]
    },
    {
     "data": {
      "text/html": [
       "<div>\n",
       "<style scoped>\n",
       "    .dataframe tbody tr th:only-of-type {\n",
       "        vertical-align: middle;\n",
       "    }\n",
       "\n",
       "    .dataframe tbody tr th {\n",
       "        vertical-align: top;\n",
       "    }\n",
       "\n",
       "    .dataframe thead th {\n",
       "        text-align: right;\n",
       "    }\n",
       "</style>\n",
       "<table border=\"1\" class=\"dataframe\">\n",
       "  <thead>\n",
       "    <tr style=\"text-align: right;\">\n",
       "      <th></th>\n",
       "      <th>review</th>\n",
       "      <th>sentiment</th>\n",
       "      <th>scores</th>\n",
       "    </tr>\n",
       "  </thead>\n",
       "  <tbody>\n",
       "    <tr>\n",
       "      <th>0</th>\n",
       "      <td>One of the other reviewers has mentioned that ...</td>\n",
       "      <td>positive</td>\n",
       "      <td>(0.023433179723502305, 0.4903686635944701, [([...</td>\n",
       "    </tr>\n",
       "    <tr>\n",
       "      <th>1</th>\n",
       "      <td>A wonderful little production. &lt;br /&gt;&lt;br /&gt;The...</td>\n",
       "      <td>positive</td>\n",
       "      <td>(0.1097222222222222, 0.5593434343434344, [(['w...</td>\n",
       "    </tr>\n",
       "    <tr>\n",
       "      <th>2</th>\n",
       "      <td>I thought this was a wonderful way to spend ti...</td>\n",
       "      <td>positive</td>\n",
       "      <td>(0.35400793650793644, 0.6587301587301588, [(['...</td>\n",
       "    </tr>\n",
       "    <tr>\n",
       "      <th>3</th>\n",
       "      <td>Basically there's a family where a little boy ...</td>\n",
       "      <td>negative</td>\n",
       "      <td>(-0.0578125, 0.45416666666666666, [(['little']...</td>\n",
       "    </tr>\n",
       "    <tr>\n",
       "      <th>4</th>\n",
       "      <td>Petter Mattei's \"Love in the Time of Money\" is...</td>\n",
       "      <td>positive</td>\n",
       "      <td>(0.2179522497704316, 0.45291551882460973, [(['...</td>\n",
       "    </tr>\n",
       "  </tbody>\n",
       "</table>\n",
       "</div>"
      ],
      "text/plain": [
       "                                              review sentiment  \\\n",
       "0  One of the other reviewers has mentioned that ...  positive   \n",
       "1  A wonderful little production. <br /><br />The...  positive   \n",
       "2  I thought this was a wonderful way to spend ti...  positive   \n",
       "3  Basically there's a family where a little boy ...  negative   \n",
       "4  Petter Mattei's \"Love in the Time of Money\" is...  positive   \n",
       "\n",
       "                                              scores  \n",
       "0  (0.023433179723502305, 0.4903686635944701, [([...  \n",
       "1  (0.1097222222222222, 0.5593434343434344, [(['w...  \n",
       "2  (0.35400793650793644, 0.6587301587301588, [(['...  \n",
       "3  (-0.0578125, 0.45416666666666666, [(['little']...  \n",
       "4  (0.2179522497704316, 0.45291551882460973, [(['...  "
      ]
     },
     "execution_count": 58,
     "metadata": {},
     "output_type": "execute_result"
    }
   ],
   "source": [
    "%%time\n",
    "assessments = []\n",
    "for doc in nlp.pipe(df_spacy[\"review\"]):\n",
    "    assessments.append(doc._.blob.sentiment_assessments)\n",
    "    \n",
    "df_spacy[\"scores\"] = assessments\n",
    "df_spacy.head()"
   ]
  },
  {
   "cell_type": "code",
   "execution_count": 59,
   "id": "1d1dcbf3-90d9-4746-a0ea-d46dd41aee99",
   "metadata": {},
   "outputs": [
    {
     "data": {
      "text/html": [
       "<div>\n",
       "<style scoped>\n",
       "    .dataframe tbody tr th:only-of-type {\n",
       "        vertical-align: middle;\n",
       "    }\n",
       "\n",
       "    .dataframe tbody tr th {\n",
       "        vertical-align: top;\n",
       "    }\n",
       "\n",
       "    .dataframe thead th {\n",
       "        text-align: right;\n",
       "    }\n",
       "</style>\n",
       "<table border=\"1\" class=\"dataframe\">\n",
       "  <thead>\n",
       "    <tr style=\"text-align: right;\">\n",
       "      <th></th>\n",
       "      <th>review</th>\n",
       "      <th>sentiment</th>\n",
       "      <th>scores</th>\n",
       "      <th>polarity</th>\n",
       "      <th>subjectivity</th>\n",
       "    </tr>\n",
       "  </thead>\n",
       "  <tbody>\n",
       "    <tr>\n",
       "      <th>0</th>\n",
       "      <td>One of the other reviewers has mentioned that ...</td>\n",
       "      <td>positive</td>\n",
       "      <td>(0.023433179723502305, 0.4903686635944701, [([...</td>\n",
       "      <td>0.023433</td>\n",
       "      <td>0.490369</td>\n",
       "    </tr>\n",
       "    <tr>\n",
       "      <th>1</th>\n",
       "      <td>A wonderful little production. &lt;br /&gt;&lt;br /&gt;The...</td>\n",
       "      <td>positive</td>\n",
       "      <td>(0.1097222222222222, 0.5593434343434344, [(['w...</td>\n",
       "      <td>0.109722</td>\n",
       "      <td>0.559343</td>\n",
       "    </tr>\n",
       "    <tr>\n",
       "      <th>2</th>\n",
       "      <td>I thought this was a wonderful way to spend ti...</td>\n",
       "      <td>positive</td>\n",
       "      <td>(0.35400793650793644, 0.6587301587301588, [(['...</td>\n",
       "      <td>0.354008</td>\n",
       "      <td>0.658730</td>\n",
       "    </tr>\n",
       "    <tr>\n",
       "      <th>3</th>\n",
       "      <td>Basically there's a family where a little boy ...</td>\n",
       "      <td>negative</td>\n",
       "      <td>(-0.0578125, 0.45416666666666666, [(['little']...</td>\n",
       "      <td>-0.057813</td>\n",
       "      <td>0.454167</td>\n",
       "    </tr>\n",
       "    <tr>\n",
       "      <th>4</th>\n",
       "      <td>Petter Mattei's \"Love in the Time of Money\" is...</td>\n",
       "      <td>positive</td>\n",
       "      <td>(0.2179522497704316, 0.45291551882460973, [(['...</td>\n",
       "      <td>0.217952</td>\n",
       "      <td>0.452916</td>\n",
       "    </tr>\n",
       "  </tbody>\n",
       "</table>\n",
       "</div>"
      ],
      "text/plain": [
       "                                              review sentiment  \\\n",
       "0  One of the other reviewers has mentioned that ...  positive   \n",
       "1  A wonderful little production. <br /><br />The...  positive   \n",
       "2  I thought this was a wonderful way to spend ti...  positive   \n",
       "3  Basically there's a family where a little boy ...  negative   \n",
       "4  Petter Mattei's \"Love in the Time of Money\" is...  positive   \n",
       "\n",
       "                                              scores  polarity  subjectivity  \n",
       "0  (0.023433179723502305, 0.4903686635944701, [([...  0.023433      0.490369  \n",
       "1  (0.1097222222222222, 0.5593434343434344, [(['w...  0.109722      0.559343  \n",
       "2  (0.35400793650793644, 0.6587301587301588, [(['...  0.354008      0.658730  \n",
       "3  (-0.0578125, 0.45416666666666666, [(['little']... -0.057813      0.454167  \n",
       "4  (0.2179522497704316, 0.45291551882460973, [(['...  0.217952      0.452916  "
      ]
     },
     "execution_count": 59,
     "metadata": {},
     "output_type": "execute_result"
    }
   ],
   "source": [
    "df_spacy['polarity'] = df_spacy['scores'].apply(lambda x: x.polarity)\n",
    "df_spacy['subjectivity'] = df_spacy['scores'].apply(lambda x: x.subjectivity)\n",
    "df_spacy.head()"
   ]
  },
  {
   "cell_type": "code",
   "execution_count": 60,
   "id": "35c9eafc-0361-45cb-952e-1a90fe16ae00",
   "metadata": {},
   "outputs": [],
   "source": [
    "df_spacy = df_spacy[['review', 'sentiment', 'polarity', 'subjectivity', 'scores']]"
   ]
  },
  {
   "cell_type": "code",
   "execution_count": 61,
   "id": "2bd5caa8-4ec9-43fb-ad3c-a113eb20862e",
   "metadata": {},
   "outputs": [
    {
     "data": {
      "text/html": [
       "<div>\n",
       "<style scoped>\n",
       "    .dataframe tbody tr th:only-of-type {\n",
       "        vertical-align: middle;\n",
       "    }\n",
       "\n",
       "    .dataframe tbody tr th {\n",
       "        vertical-align: top;\n",
       "    }\n",
       "\n",
       "    .dataframe thead th {\n",
       "        text-align: right;\n",
       "    }\n",
       "</style>\n",
       "<table border=\"1\" class=\"dataframe\">\n",
       "  <thead>\n",
       "    <tr style=\"text-align: right;\">\n",
       "      <th></th>\n",
       "      <th>review</th>\n",
       "      <th>sentiment</th>\n",
       "      <th>polarity</th>\n",
       "      <th>subjectivity</th>\n",
       "      <th>scores</th>\n",
       "    </tr>\n",
       "  </thead>\n",
       "  <tbody>\n",
       "    <tr>\n",
       "      <th>0</th>\n",
       "      <td>One of the other reviewers has mentioned that ...</td>\n",
       "      <td>positive</td>\n",
       "      <td>0.023433</td>\n",
       "      <td>0.490369</td>\n",
       "      <td>(0.023433179723502305, 0.4903686635944701, [([...</td>\n",
       "    </tr>\n",
       "    <tr>\n",
       "      <th>1</th>\n",
       "      <td>A wonderful little production. &lt;br /&gt;&lt;br /&gt;The...</td>\n",
       "      <td>positive</td>\n",
       "      <td>0.109722</td>\n",
       "      <td>0.559343</td>\n",
       "      <td>(0.1097222222222222, 0.5593434343434344, [(['w...</td>\n",
       "    </tr>\n",
       "    <tr>\n",
       "      <th>2</th>\n",
       "      <td>I thought this was a wonderful way to spend ti...</td>\n",
       "      <td>positive</td>\n",
       "      <td>0.354008</td>\n",
       "      <td>0.658730</td>\n",
       "      <td>(0.35400793650793644, 0.6587301587301588, [(['...</td>\n",
       "    </tr>\n",
       "    <tr>\n",
       "      <th>3</th>\n",
       "      <td>Basically there's a family where a little boy ...</td>\n",
       "      <td>negative</td>\n",
       "      <td>-0.057813</td>\n",
       "      <td>0.454167</td>\n",
       "      <td>(-0.0578125, 0.45416666666666666, [(['little']...</td>\n",
       "    </tr>\n",
       "    <tr>\n",
       "      <th>4</th>\n",
       "      <td>Petter Mattei's \"Love in the Time of Money\" is...</td>\n",
       "      <td>positive</td>\n",
       "      <td>0.217952</td>\n",
       "      <td>0.452916</td>\n",
       "      <td>(0.2179522497704316, 0.45291551882460973, [(['...</td>\n",
       "    </tr>\n",
       "  </tbody>\n",
       "</table>\n",
       "</div>"
      ],
      "text/plain": [
       "                                              review sentiment  polarity  \\\n",
       "0  One of the other reviewers has mentioned that ...  positive  0.023433   \n",
       "1  A wonderful little production. <br /><br />The...  positive  0.109722   \n",
       "2  I thought this was a wonderful way to spend ti...  positive  0.354008   \n",
       "3  Basically there's a family where a little boy ...  negative -0.057813   \n",
       "4  Petter Mattei's \"Love in the Time of Money\" is...  positive  0.217952   \n",
       "\n",
       "   subjectivity                                             scores  \n",
       "0      0.490369  (0.023433179723502305, 0.4903686635944701, [([...  \n",
       "1      0.559343  (0.1097222222222222, 0.5593434343434344, [(['w...  \n",
       "2      0.658730  (0.35400793650793644, 0.6587301587301588, [(['...  \n",
       "3      0.454167  (-0.0578125, 0.45416666666666666, [(['little']...  \n",
       "4      0.452916  (0.2179522497704316, 0.45291551882460973, [(['...  "
      ]
     },
     "execution_count": 61,
     "metadata": {},
     "output_type": "execute_result"
    }
   ],
   "source": [
    "df_spacy.head()"
   ]
  },
  {
   "cell_type": "markdown",
   "id": "2295a4ef-26de-460e-881a-fe3ebcea4ce9",
   "metadata": {},
   "source": [
    "### Evaluating how well textblob did on the IMDB dataset"
   ]
  },
  {
   "cell_type": "code",
   "execution_count": 62,
   "id": "0899ba1d-48fc-4197-808a-77dc59b55255",
   "metadata": {},
   "outputs": [],
   "source": [
    "from sklearn.metrics import accuracy_score"
   ]
  },
  {
   "cell_type": "code",
   "execution_count": 63,
   "id": "60471187-31fc-4206-b655-6d695d7a648f",
   "metadata": {},
   "outputs": [
    {
     "data": {
      "text/html": [
       "<div>\n",
       "<style scoped>\n",
       "    .dataframe tbody tr th:only-of-type {\n",
       "        vertical-align: middle;\n",
       "    }\n",
       "\n",
       "    .dataframe tbody tr th {\n",
       "        vertical-align: top;\n",
       "    }\n",
       "\n",
       "    .dataframe thead th {\n",
       "        text-align: right;\n",
       "    }\n",
       "</style>\n",
       "<table border=\"1\" class=\"dataframe\">\n",
       "  <thead>\n",
       "    <tr style=\"text-align: right;\">\n",
       "      <th></th>\n",
       "      <th>review</th>\n",
       "      <th>sentiment</th>\n",
       "      <th>polarity</th>\n",
       "      <th>subjectivity</th>\n",
       "      <th>scores</th>\n",
       "      <th>comp_score</th>\n",
       "    </tr>\n",
       "  </thead>\n",
       "  <tbody>\n",
       "    <tr>\n",
       "      <th>0</th>\n",
       "      <td>One of the other reviewers has mentioned that ...</td>\n",
       "      <td>positive</td>\n",
       "      <td>0.023433</td>\n",
       "      <td>0.490369</td>\n",
       "      <td>(0.023433179723502305, 0.4903686635944701, [([...</td>\n",
       "      <td>positive</td>\n",
       "    </tr>\n",
       "    <tr>\n",
       "      <th>1</th>\n",
       "      <td>A wonderful little production. &lt;br /&gt;&lt;br /&gt;The...</td>\n",
       "      <td>positive</td>\n",
       "      <td>0.109722</td>\n",
       "      <td>0.559343</td>\n",
       "      <td>(0.1097222222222222, 0.5593434343434344, [(['w...</td>\n",
       "      <td>positive</td>\n",
       "    </tr>\n",
       "    <tr>\n",
       "      <th>2</th>\n",
       "      <td>I thought this was a wonderful way to spend ti...</td>\n",
       "      <td>positive</td>\n",
       "      <td>0.354008</td>\n",
       "      <td>0.658730</td>\n",
       "      <td>(0.35400793650793644, 0.6587301587301588, [(['...</td>\n",
       "      <td>positive</td>\n",
       "    </tr>\n",
       "    <tr>\n",
       "      <th>3</th>\n",
       "      <td>Basically there's a family where a little boy ...</td>\n",
       "      <td>negative</td>\n",
       "      <td>-0.057813</td>\n",
       "      <td>0.454167</td>\n",
       "      <td>(-0.0578125, 0.45416666666666666, [(['little']...</td>\n",
       "      <td>negative</td>\n",
       "    </tr>\n",
       "    <tr>\n",
       "      <th>4</th>\n",
       "      <td>Petter Mattei's \"Love in the Time of Money\" is...</td>\n",
       "      <td>positive</td>\n",
       "      <td>0.217952</td>\n",
       "      <td>0.452916</td>\n",
       "      <td>(0.2179522497704316, 0.45291551882460973, [(['...</td>\n",
       "      <td>positive</td>\n",
       "    </tr>\n",
       "  </tbody>\n",
       "</table>\n",
       "</div>"
      ],
      "text/plain": [
       "                                              review sentiment  polarity  \\\n",
       "0  One of the other reviewers has mentioned that ...  positive  0.023433   \n",
       "1  A wonderful little production. <br /><br />The...  positive  0.109722   \n",
       "2  I thought this was a wonderful way to spend ti...  positive  0.354008   \n",
       "3  Basically there's a family where a little boy ...  negative -0.057813   \n",
       "4  Petter Mattei's \"Love in the Time of Money\" is...  positive  0.217952   \n",
       "\n",
       "   subjectivity                                             scores comp_score  \n",
       "0      0.490369  (0.023433179723502305, 0.4903686635944701, [([...   positive  \n",
       "1      0.559343  (0.1097222222222222, 0.5593434343434344, [(['w...   positive  \n",
       "2      0.658730  (0.35400793650793644, 0.6587301587301588, [(['...   positive  \n",
       "3      0.454167  (-0.0578125, 0.45416666666666666, [(['little']...   negative  \n",
       "4      0.452916  (0.2179522497704316, 0.45291551882460973, [(['...   positive  "
      ]
     },
     "execution_count": 63,
     "metadata": {},
     "output_type": "execute_result"
    }
   ],
   "source": [
    "df_spacy['comp_score'] = df_spacy['polarity'].apply(lambda score: 'positive' if score >= 0 else 'negative')\n",
    "df_spacy.head()"
   ]
  },
  {
   "cell_type": "code",
   "execution_count": 64,
   "id": "06fa26f3-39d0-46f2-b55a-171e587cf9e7",
   "metadata": {},
   "outputs": [
    {
     "data": {
      "text/plain": [
       "0.68828"
      ]
     },
     "execution_count": 64,
     "metadata": {},
     "output_type": "execute_result"
    }
   ],
   "source": [
    "spacy_acc = accuracy_score(df_spacy['sentiment'], df_spacy['comp_score'])\n",
    "spacy_acc"
   ]
  },
  {
   "cell_type": "markdown",
   "id": "ee632749-1e8d-430d-a52b-5470ce74d670",
   "metadata": {},
   "source": [
    "## Sentiment Analysis using nltk and VADER"
   ]
  },
  {
   "cell_type": "code",
   "execution_count": 13,
   "id": "47bc655f-3c2d-4c04-97da-2fd065026b75",
   "metadata": {},
   "outputs": [],
   "source": [
    "import nltk\n",
    "from nltk.sentiment.vader import SentimentIntensityAnalyzer"
   ]
  },
  {
   "cell_type": "code",
   "execution_count": 14,
   "id": "abf41122-7e86-4b0a-84cc-79f635ab4af3",
   "metadata": {},
   "outputs": [],
   "source": [
    "sid = SentimentIntensityAnalyzer()"
   ]
  },
  {
   "cell_type": "code",
   "execution_count": 15,
   "id": "0b009204-63c3-45d7-82fc-559e42982050",
   "metadata": {},
   "outputs": [],
   "source": [
    "df_nltk = df_raw.copy()"
   ]
  },
  {
   "cell_type": "code",
   "execution_count": 16,
   "id": "3d79aa11-4af0-4a16-97cf-0c7c230cb350",
   "metadata": {},
   "outputs": [
    {
     "name": "stdout",
     "output_type": "stream",
     "text": [
      "CPU times: user 37.8 s, sys: 32 ms, total: 37.9 s\n",
      "Wall time: 37.9 s\n"
     ]
    },
    {
     "data": {
      "text/html": [
       "<div>\n",
       "<style scoped>\n",
       "    .dataframe tbody tr th:only-of-type {\n",
       "        vertical-align: middle;\n",
       "    }\n",
       "\n",
       "    .dataframe tbody tr th {\n",
       "        vertical-align: top;\n",
       "    }\n",
       "\n",
       "    .dataframe thead th {\n",
       "        text-align: right;\n",
       "    }\n",
       "</style>\n",
       "<table border=\"1\" class=\"dataframe\">\n",
       "  <thead>\n",
       "    <tr style=\"text-align: right;\">\n",
       "      <th></th>\n",
       "      <th>review</th>\n",
       "      <th>sentiment</th>\n",
       "      <th>scores</th>\n",
       "    </tr>\n",
       "  </thead>\n",
       "  <tbody>\n",
       "    <tr>\n",
       "      <th>0</th>\n",
       "      <td>One of the other reviewers has mentioned that ...</td>\n",
       "      <td>positive</td>\n",
       "      <td>{'neg': 0.203, 'neu': 0.748, 'pos': 0.048, 'co...</td>\n",
       "    </tr>\n",
       "    <tr>\n",
       "      <th>1</th>\n",
       "      <td>A wonderful little production. &lt;br /&gt;&lt;br /&gt;The...</td>\n",
       "      <td>positive</td>\n",
       "      <td>{'neg': 0.053, 'neu': 0.776, 'pos': 0.172, 'co...</td>\n",
       "    </tr>\n",
       "    <tr>\n",
       "      <th>2</th>\n",
       "      <td>I thought this was a wonderful way to spend ti...</td>\n",
       "      <td>positive</td>\n",
       "      <td>{'neg': 0.094, 'neu': 0.714, 'pos': 0.192, 'co...</td>\n",
       "    </tr>\n",
       "    <tr>\n",
       "      <th>3</th>\n",
       "      <td>Basically there's a family where a little boy ...</td>\n",
       "      <td>negative</td>\n",
       "      <td>{'neg': 0.138, 'neu': 0.797, 'pos': 0.065, 'co...</td>\n",
       "    </tr>\n",
       "    <tr>\n",
       "      <th>4</th>\n",
       "      <td>Petter Mattei's \"Love in the Time of Money\" is...</td>\n",
       "      <td>positive</td>\n",
       "      <td>{'neg': 0.052, 'neu': 0.801, 'pos': 0.147, 'co...</td>\n",
       "    </tr>\n",
       "  </tbody>\n",
       "</table>\n",
       "</div>"
      ],
      "text/plain": [
       "                                              review sentiment  \\\n",
       "0  One of the other reviewers has mentioned that ...  positive   \n",
       "1  A wonderful little production. <br /><br />The...  positive   \n",
       "2  I thought this was a wonderful way to spend ti...  positive   \n",
       "3  Basically there's a family where a little boy ...  negative   \n",
       "4  Petter Mattei's \"Love in the Time of Money\" is...  positive   \n",
       "\n",
       "                                              scores  \n",
       "0  {'neg': 0.203, 'neu': 0.748, 'pos': 0.048, 'co...  \n",
       "1  {'neg': 0.053, 'neu': 0.776, 'pos': 0.172, 'co...  \n",
       "2  {'neg': 0.094, 'neu': 0.714, 'pos': 0.192, 'co...  \n",
       "3  {'neg': 0.138, 'neu': 0.797, 'pos': 0.065, 'co...  \n",
       "4  {'neg': 0.052, 'neu': 0.801, 'pos': 0.147, 'co...  "
      ]
     },
     "execution_count": 16,
     "metadata": {},
     "output_type": "execute_result"
    }
   ],
   "source": [
    "%%time\n",
    "df_nltk['scores'] = df_nltk['review'].apply(lambda review: sid.polarity_scores(review))\n",
    "df_nltk.head()"
   ]
  },
  {
   "cell_type": "code",
   "execution_count": 17,
   "id": "89a1b5cf-da0d-4161-8bb6-68d8a408ec33",
   "metadata": {},
   "outputs": [
    {
     "data": {
      "text/html": [
       "<div>\n",
       "<style scoped>\n",
       "    .dataframe tbody tr th:only-of-type {\n",
       "        vertical-align: middle;\n",
       "    }\n",
       "\n",
       "    .dataframe tbody tr th {\n",
       "        vertical-align: top;\n",
       "    }\n",
       "\n",
       "    .dataframe thead th {\n",
       "        text-align: right;\n",
       "    }\n",
       "</style>\n",
       "<table border=\"1\" class=\"dataframe\">\n",
       "  <thead>\n",
       "    <tr style=\"text-align: right;\">\n",
       "      <th></th>\n",
       "      <th>review</th>\n",
       "      <th>sentiment</th>\n",
       "      <th>scores</th>\n",
       "      <th>compound</th>\n",
       "      <th>comp_score</th>\n",
       "    </tr>\n",
       "  </thead>\n",
       "  <tbody>\n",
       "    <tr>\n",
       "      <th>0</th>\n",
       "      <td>One of the other reviewers has mentioned that ...</td>\n",
       "      <td>positive</td>\n",
       "      <td>{'neg': 0.203, 'neu': 0.748, 'pos': 0.048, 'co...</td>\n",
       "      <td>-0.9951</td>\n",
       "      <td>negative</td>\n",
       "    </tr>\n",
       "    <tr>\n",
       "      <th>1</th>\n",
       "      <td>A wonderful little production. &lt;br /&gt;&lt;br /&gt;The...</td>\n",
       "      <td>positive</td>\n",
       "      <td>{'neg': 0.053, 'neu': 0.776, 'pos': 0.172, 'co...</td>\n",
       "      <td>0.9641</td>\n",
       "      <td>positive</td>\n",
       "    </tr>\n",
       "    <tr>\n",
       "      <th>2</th>\n",
       "      <td>I thought this was a wonderful way to spend ti...</td>\n",
       "      <td>positive</td>\n",
       "      <td>{'neg': 0.094, 'neu': 0.714, 'pos': 0.192, 'co...</td>\n",
       "      <td>0.9605</td>\n",
       "      <td>positive</td>\n",
       "    </tr>\n",
       "    <tr>\n",
       "      <th>3</th>\n",
       "      <td>Basically there's a family where a little boy ...</td>\n",
       "      <td>negative</td>\n",
       "      <td>{'neg': 0.138, 'neu': 0.797, 'pos': 0.065, 'co...</td>\n",
       "      <td>-0.9213</td>\n",
       "      <td>negative</td>\n",
       "    </tr>\n",
       "    <tr>\n",
       "      <th>4</th>\n",
       "      <td>Petter Mattei's \"Love in the Time of Money\" is...</td>\n",
       "      <td>positive</td>\n",
       "      <td>{'neg': 0.052, 'neu': 0.801, 'pos': 0.147, 'co...</td>\n",
       "      <td>0.9744</td>\n",
       "      <td>positive</td>\n",
       "    </tr>\n",
       "  </tbody>\n",
       "</table>\n",
       "</div>"
      ],
      "text/plain": [
       "                                              review sentiment  \\\n",
       "0  One of the other reviewers has mentioned that ...  positive   \n",
       "1  A wonderful little production. <br /><br />The...  positive   \n",
       "2  I thought this was a wonderful way to spend ti...  positive   \n",
       "3  Basically there's a family where a little boy ...  negative   \n",
       "4  Petter Mattei's \"Love in the Time of Money\" is...  positive   \n",
       "\n",
       "                                              scores  compound comp_score  \n",
       "0  {'neg': 0.203, 'neu': 0.748, 'pos': 0.048, 'co...   -0.9951   negative  \n",
       "1  {'neg': 0.053, 'neu': 0.776, 'pos': 0.172, 'co...    0.9641   positive  \n",
       "2  {'neg': 0.094, 'neu': 0.714, 'pos': 0.192, 'co...    0.9605   positive  \n",
       "3  {'neg': 0.138, 'neu': 0.797, 'pos': 0.065, 'co...   -0.9213   negative  \n",
       "4  {'neg': 0.052, 'neu': 0.801, 'pos': 0.147, 'co...    0.9744   positive  "
      ]
     },
     "execution_count": 17,
     "metadata": {},
     "output_type": "execute_result"
    }
   ],
   "source": [
    "df_nltk['compound'] = df_nltk['scores'].apply(lambda d:d['compound'])\n",
    "df_nltk['comp_score'] = df_nltk['compound'].apply(lambda score: 'positive' if score >= 0 else 'negative')\n",
    "df_nltk.head()"
   ]
  },
  {
   "cell_type": "markdown",
   "id": "81bbc3fb-86e2-43d4-9900-5c2939eb9664",
   "metadata": {},
   "source": [
    "### Evaluating how well VADER did on the IMDB dataset"
   ]
  },
  {
   "cell_type": "code",
   "execution_count": 18,
   "id": "d7610414-979f-464e-ad23-f356cee08b40",
   "metadata": {},
   "outputs": [],
   "source": [
    "from sklearn.metrics import accuracy_score"
   ]
  },
  {
   "cell_type": "code",
   "execution_count": 19,
   "id": "6c6b4aa3-74d3-41ec-8af2-d4f2143e2b40",
   "metadata": {},
   "outputs": [
    {
     "data": {
      "text/plain": [
       "0.69626"
      ]
     },
     "execution_count": 19,
     "metadata": {},
     "output_type": "execute_result"
    }
   ],
   "source": [
    "nltk_acc = accuracy_score(df_nltk['sentiment'], df_nltk['comp_score'])\n",
    "nltk_acc"
   ]
  },
  {
   "cell_type": "markdown",
   "id": "2baa96de-1365-4554-8678-24a06c1ea7cb",
   "metadata": {},
   "source": [
    "## Sentiment Analysis using scikit learn\n",
    "In this section we will do a sentiment analysis with the help of scikit learns machine learning algorithms.  \n",
    "But for this to work we first have to convert the sentiment value into numerical values.  \n",
    "* Positive -> 1\n",
    "* Neagative -> 0"
   ]
  },
  {
   "cell_type": "code",
   "execution_count": 20,
   "id": "251432a9-7ff2-491b-9088-0b112547ffbe",
   "metadata": {},
   "outputs": [],
   "source": [
    "df_ml  = df_raw.copy()"
   ]
  },
  {
   "cell_type": "code",
   "execution_count": 21,
   "id": "06129a1c-a168-4b68-875d-7fab37efaa37",
   "metadata": {},
   "outputs": [
    {
     "data": {
      "text/html": [
       "<div>\n",
       "<style scoped>\n",
       "    .dataframe tbody tr th:only-of-type {\n",
       "        vertical-align: middle;\n",
       "    }\n",
       "\n",
       "    .dataframe tbody tr th {\n",
       "        vertical-align: top;\n",
       "    }\n",
       "\n",
       "    .dataframe thead th {\n",
       "        text-align: right;\n",
       "    }\n",
       "</style>\n",
       "<table border=\"1\" class=\"dataframe\">\n",
       "  <thead>\n",
       "    <tr style=\"text-align: right;\">\n",
       "      <th></th>\n",
       "      <th>review</th>\n",
       "      <th>sentiment</th>\n",
       "    </tr>\n",
       "  </thead>\n",
       "  <tbody>\n",
       "    <tr>\n",
       "      <th>0</th>\n",
       "      <td>One of the other reviewers has mentioned that ...</td>\n",
       "      <td>1</td>\n",
       "    </tr>\n",
       "    <tr>\n",
       "      <th>1</th>\n",
       "      <td>A wonderful little production. &lt;br /&gt;&lt;br /&gt;The...</td>\n",
       "      <td>1</td>\n",
       "    </tr>\n",
       "    <tr>\n",
       "      <th>2</th>\n",
       "      <td>I thought this was a wonderful way to spend ti...</td>\n",
       "      <td>1</td>\n",
       "    </tr>\n",
       "    <tr>\n",
       "      <th>3</th>\n",
       "      <td>Basically there's a family where a little boy ...</td>\n",
       "      <td>0</td>\n",
       "    </tr>\n",
       "    <tr>\n",
       "      <th>4</th>\n",
       "      <td>Petter Mattei's \"Love in the Time of Money\" is...</td>\n",
       "      <td>1</td>\n",
       "    </tr>\n",
       "  </tbody>\n",
       "</table>\n",
       "</div>"
      ],
      "text/plain": [
       "                                              review  sentiment\n",
       "0  One of the other reviewers has mentioned that ...          1\n",
       "1  A wonderful little production. <br /><br />The...          1\n",
       "2  I thought this was a wonderful way to spend ti...          1\n",
       "3  Basically there's a family where a little boy ...          0\n",
       "4  Petter Mattei's \"Love in the Time of Money\" is...          1"
      ]
     },
     "execution_count": 21,
     "metadata": {},
     "output_type": "execute_result"
    }
   ],
   "source": [
    "df_ml['sentiment'] = df_ml.sentiment.apply(lambda score: 1 if score == 'positive' else 0)\n",
    "df_ml.head()"
   ]
  },
  {
   "cell_type": "markdown",
   "id": "ed649c6c-4158-4ccd-a9d4-5e0929865afb",
   "metadata": {},
   "source": [
    "Since we are using supervised learning we have to split our dataset into features X and its labels y.  \n",
    "The label y is the solution with which the algorithm can learn and improve."
   ]
  },
  {
   "cell_type": "code",
   "execution_count": 22,
   "id": "172aa838-95fb-4c14-80ea-a8500ee2b326",
   "metadata": {},
   "outputs": [],
   "source": [
    "# split dataframe into feature matrix X and label vector y\n",
    "from sklearn.feature_extraction.text import CountVectorizer\n",
    "\n",
    "# Creating sparse matrix of top 2500 tokens\n",
    "cv = CountVectorizer(max_features = 2500)\n",
    "X = cv.fit_transform(df_ml.review).toarray()\n",
    "y = df_ml['sentiment'].values"
   ]
  },
  {
   "cell_type": "markdown",
   "id": "e75aa0e0-e6ea-4ff8-ab38-83d33ceb345b",
   "metadata": {},
   "source": [
    "### The two sets\n",
    "\n",
    "In Machine learning and supervised training we split our dataset into at least two sets. \n",
    "\n",
    "* training set\n",
    "* test set\n",
    "\n",
    "The training set is used to train our model. There we give the model a review and the corresponding label and the model trains by producing its own label and compares it to the correct label. If the produced label is different then the real label the model will do some corrections and try again.  \n",
    "The test set is then used to test the trained model on data it has never seen before. We want to use the model on new data after all and not the data where we already know the answer.  \n",
    "\n",
    "Because of this we have to split our feature Matrix X and label vector y into train and test set."
   ]
  },
  {
   "cell_type": "code",
   "execution_count": 23,
   "id": "4dd1d674-d40f-43da-923a-ec60f854e969",
   "metadata": {},
   "outputs": [],
   "source": [
    "from sklearn.model_selection import train_test_split\n",
    "X_train, X_test, y_train, y_test = train_test_split(X, y, test_size = 0.20, random_state = 0)"
   ]
  },
  {
   "cell_type": "code",
   "execution_count": 24,
   "id": "6e5e40e3-a7e7-43d3-ad6e-de7d3c5b4b33",
   "metadata": {},
   "outputs": [
    {
     "name": "stderr",
     "output_type": "stream",
     "text": [
      "/home/msk/Projects/work/sentiment_analysis/.env/lib/python3.9/site-packages/sklearn/linear_model/_logistic.py:458: ConvergenceWarning: lbfgs failed to converge (status=1):\n",
      "STOP: TOTAL NO. of ITERATIONS REACHED LIMIT.\n",
      "\n",
      "Increase the number of iterations (max_iter) or scale the data as shown in:\n",
      "    https://scikit-learn.org/stable/modules/preprocessing.html\n",
      "Please also refer to the documentation for alternative solver options:\n",
      "    https://scikit-learn.org/stable/modules/linear_model.html#logistic-regression\n",
      "  n_iter_i = _check_optimize_result(\n"
     ]
    },
    {
     "data": {
      "text/html": [
       "<style>#sk-container-id-1 {color: black;background-color: white;}#sk-container-id-1 pre{padding: 0;}#sk-container-id-1 div.sk-toggleable {background-color: white;}#sk-container-id-1 label.sk-toggleable__label {cursor: pointer;display: block;width: 100%;margin-bottom: 0;padding: 0.3em;box-sizing: border-box;text-align: center;}#sk-container-id-1 label.sk-toggleable__label-arrow:before {content: \"▸\";float: left;margin-right: 0.25em;color: #696969;}#sk-container-id-1 label.sk-toggleable__label-arrow:hover:before {color: black;}#sk-container-id-1 div.sk-estimator:hover label.sk-toggleable__label-arrow:before {color: black;}#sk-container-id-1 div.sk-toggleable__content {max-height: 0;max-width: 0;overflow: hidden;text-align: left;background-color: #f0f8ff;}#sk-container-id-1 div.sk-toggleable__content pre {margin: 0.2em;color: black;border-radius: 0.25em;background-color: #f0f8ff;}#sk-container-id-1 input.sk-toggleable__control:checked~div.sk-toggleable__content {max-height: 200px;max-width: 100%;overflow: auto;}#sk-container-id-1 input.sk-toggleable__control:checked~label.sk-toggleable__label-arrow:before {content: \"▾\";}#sk-container-id-1 div.sk-estimator input.sk-toggleable__control:checked~label.sk-toggleable__label {background-color: #d4ebff;}#sk-container-id-1 div.sk-label input.sk-toggleable__control:checked~label.sk-toggleable__label {background-color: #d4ebff;}#sk-container-id-1 input.sk-hidden--visually {border: 0;clip: rect(1px 1px 1px 1px);clip: rect(1px, 1px, 1px, 1px);height: 1px;margin: -1px;overflow: hidden;padding: 0;position: absolute;width: 1px;}#sk-container-id-1 div.sk-estimator {font-family: monospace;background-color: #f0f8ff;border: 1px dotted black;border-radius: 0.25em;box-sizing: border-box;margin-bottom: 0.5em;}#sk-container-id-1 div.sk-estimator:hover {background-color: #d4ebff;}#sk-container-id-1 div.sk-parallel-item::after {content: \"\";width: 100%;border-bottom: 1px solid gray;flex-grow: 1;}#sk-container-id-1 div.sk-label:hover label.sk-toggleable__label {background-color: #d4ebff;}#sk-container-id-1 div.sk-serial::before {content: \"\";position: absolute;border-left: 1px solid gray;box-sizing: border-box;top: 0;bottom: 0;left: 50%;z-index: 0;}#sk-container-id-1 div.sk-serial {display: flex;flex-direction: column;align-items: center;background-color: white;padding-right: 0.2em;padding-left: 0.2em;position: relative;}#sk-container-id-1 div.sk-item {position: relative;z-index: 1;}#sk-container-id-1 div.sk-parallel {display: flex;align-items: stretch;justify-content: center;background-color: white;position: relative;}#sk-container-id-1 div.sk-item::before, #sk-container-id-1 div.sk-parallel-item::before {content: \"\";position: absolute;border-left: 1px solid gray;box-sizing: border-box;top: 0;bottom: 0;left: 50%;z-index: -1;}#sk-container-id-1 div.sk-parallel-item {display: flex;flex-direction: column;z-index: 1;position: relative;background-color: white;}#sk-container-id-1 div.sk-parallel-item:first-child::after {align-self: flex-end;width: 50%;}#sk-container-id-1 div.sk-parallel-item:last-child::after {align-self: flex-start;width: 50%;}#sk-container-id-1 div.sk-parallel-item:only-child::after {width: 0;}#sk-container-id-1 div.sk-dashed-wrapped {border: 1px dashed gray;margin: 0 0.4em 0.5em 0.4em;box-sizing: border-box;padding-bottom: 0.4em;background-color: white;}#sk-container-id-1 div.sk-label label {font-family: monospace;font-weight: bold;display: inline-block;line-height: 1.2em;}#sk-container-id-1 div.sk-label-container {text-align: center;}#sk-container-id-1 div.sk-container {/* jupyter's `normalize.less` sets `[hidden] { display: none; }` but bootstrap.min.css set `[hidden] { display: none !important; }` so we also need the `!important` here to be able to override the default hidden behavior on the sphinx rendered scikit-learn.org. See: https://github.com/scikit-learn/scikit-learn/issues/21755 */display: inline-block !important;position: relative;}#sk-container-id-1 div.sk-text-repr-fallback {display: none;}</style><div id=\"sk-container-id-1\" class=\"sk-top-container\"><div class=\"sk-text-repr-fallback\"><pre>LogisticRegression()</pre><b>In a Jupyter environment, please rerun this cell to show the HTML representation or trust the notebook. <br />On GitHub, the HTML representation is unable to render, please try loading this page with nbviewer.org.</b></div><div class=\"sk-container\" hidden><div class=\"sk-item\"><div class=\"sk-estimator sk-toggleable\"><input class=\"sk-toggleable__control sk-hidden--visually\" id=\"sk-estimator-id-1\" type=\"checkbox\" checked><label for=\"sk-estimator-id-1\" class=\"sk-toggleable__label sk-toggleable__label-arrow\">LogisticRegression</label><div class=\"sk-toggleable__content\"><pre>LogisticRegression()</pre></div></div></div></div></div>"
      ],
      "text/plain": [
       "LogisticRegression()"
      ]
     },
     "execution_count": 24,
     "metadata": {},
     "output_type": "execute_result"
    }
   ],
   "source": [
    "from sklearn.linear_model import LogisticRegression\n",
    "\n",
    "log_model = LogisticRegression()\n",
    "log_model.fit(X_train, y_train)"
   ]
  },
  {
   "cell_type": "code",
   "execution_count": 25,
   "id": "3e2e2b26-47ff-46e2-8b1e-05cc03054e24",
   "metadata": {},
   "outputs": [],
   "source": [
    "y_pred = log_model.predict(X_test)"
   ]
  },
  {
   "cell_type": "code",
   "execution_count": 26,
   "id": "0bcc4354-eb9e-422d-b4ad-171210cc68a7",
   "metadata": {},
   "outputs": [],
   "source": [
    "from sklearn.metrics import accuracy_score\n",
    "ml_acc = accuracy_score(y_test, y_pred)"
   ]
  },
  {
   "cell_type": "markdown",
   "id": "ce85af49-5a26-4cf1-840a-5315e1c85deb",
   "metadata": {},
   "source": [
    "## Sentiment Analysis using deep learning and neuronal networks \n",
    "\n",
    "The process for deep learning is similar to machine learning:\n",
    "* split the dataset into 3 sets\n",
    "* select/build a model\n",
    "* train the model\n",
    "* evaluate the model\n",
    "\n",
    "1) The first difference is that we now split the dataset into sets of 3 \n",
    "    * training set\n",
    "    * validation set\n",
    "    * test set  \n",
    "> The train and test set have the same functionality as before. The validation set is used during training to compare the the model after each training iteration with some data.\n",
    "\n",
    "2) The next difference is the model/algorithm. In case of DL this is more complex then just choosing a classifier from scikit-learn. We have to stack layers on top of each other through which our text hast to go through (Similar to a spacy pipeline).\n",
    "\n",
    "3) Additionally we have to prepare our text data to make it fit into these neuronal layers. Since these layers need so called tensors (multidimensional matrices) as an input we have to convert our dataframe into tensors"
   ]
  },
  {
   "cell_type": "markdown",
   "id": "775b938a-dbe5-4cbe-9853-455b83539e29",
   "metadata": {},
   "source": [
    "### Loading and preparing the data"
   ]
  },
  {
   "cell_type": "code",
   "execution_count": 27,
   "id": "b5a760c2-c46b-4950-a76c-cf1f8ff0b532",
   "metadata": {},
   "outputs": [],
   "source": [
    "df_dl = df_raw.copy()\n",
    "# Split the dataframe into feature matrix and label vector\n",
    "df_dl['sentiment'] = df_dl['sentiment'].apply(lambda score: 1 if score == 'positive' else 0)\n",
    "X = df_dl.review.values\n",
    "y = df_dl.sentiment.values\n",
    "\n",
    "# Splitting the dataset into train, val and test\n",
    "from sklearn.model_selection import train_test_split\n",
    "X_train, X_test, y_train, y_test = train_test_split(X, y, test_size = 0.20, random_state = 0)\n",
    "X_val, X_test, y_val, y_test = train_test_split(X_test, y_test, test_size = 0.50, random_state = 0)"
   ]
  },
  {
   "cell_type": "code",
   "execution_count": 28,
   "id": "4182d92e-5e5b-4f80-9320-924f9fc9b1e8",
   "metadata": {},
   "outputs": [],
   "source": [
    "import tensorflow as tf"
   ]
  },
  {
   "cell_type": "code",
   "execution_count": 29,
   "id": "809acd50-4afd-45cc-868a-8c3530893360",
   "metadata": {},
   "outputs": [],
   "source": [
    "tf.random.set_seed(42)\n",
    "train_dataset = tf.data.Dataset.from_tensor_slices((X_train, y_train))\n",
    "val_dataset = tf.data.Dataset.from_tensor_slices((X_val, y_val))\n",
    "test_dataset = tf.data.Dataset.from_tensor_slices((X_test, y_test))"
   ]
  },
  {
   "cell_type": "code",
   "execution_count": 30,
   "id": "fb4f7d76-fd9d-4112-b62b-d20502e7bd54",
   "metadata": {},
   "outputs": [],
   "source": [
    "tf.random.set_seed(42)\n",
    "train_set = train_dataset.shuffle(5000, seed=42).batch(32).prefetch(1)\n",
    "valid_set = val_dataset.batch(32).prefetch(1)\n",
    "test_set = test_dataset.batch(32).prefetch(1)"
   ]
  },
  {
   "cell_type": "code",
   "execution_count": 31,
   "id": "2c141574-01d6-4cbb-b815-0a82f077a103",
   "metadata": {},
   "outputs": [],
   "source": [
    "vocab_size = 1000\n",
    "text_vec_layer = tf.keras.layers.TextVectorization(max_tokens=vocab_size)\n",
    "text_vec_layer.adapt(train_set.map(lambda reviews, labels:reviews))"
   ]
  },
  {
   "cell_type": "markdown",
   "id": "9bf053e2-483b-4b17-b5b2-e257459c9757",
   "metadata": {},
   "source": [
    "### Training the model"
   ]
  },
  {
   "cell_type": "code",
   "execution_count": 32,
   "id": "46328fdf-e3cc-4201-b9c8-f584550b2781",
   "metadata": {
    "scrolled": true,
    "tags": []
   },
   "outputs": [
    {
     "name": "stdout",
     "output_type": "stream",
     "text": [
      "Epoch 1/10\n",
      "1250/1250 [==============================] - 37s 27ms/step - loss: 0.4762 - accuracy: 0.7564 - val_loss: 0.3141 - val_accuracy: 0.8684\n",
      "Epoch 2/10\n",
      "1250/1250 [==============================] - 21s 17ms/step - loss: 0.2907 - accuracy: 0.8787 - val_loss: 0.3462 - val_accuracy: 0.8590\n",
      "Epoch 3/10\n",
      "1250/1250 [==============================] - 21s 17ms/step - loss: 0.2671 - accuracy: 0.8898 - val_loss: 0.3089 - val_accuracy: 0.8684\n",
      "Epoch 4/10\n",
      "1250/1250 [==============================] - 22s 17ms/step - loss: 0.2496 - accuracy: 0.8990 - val_loss: 0.3034 - val_accuracy: 0.8762\n",
      "Epoch 5/10\n",
      "1250/1250 [==============================] - 21s 17ms/step - loss: 0.2330 - accuracy: 0.9056 - val_loss: 0.2996 - val_accuracy: 0.8798\n",
      "Epoch 6/10\n",
      "1250/1250 [==============================] - 21s 17ms/step - loss: 0.2160 - accuracy: 0.9149 - val_loss: 0.3417 - val_accuracy: 0.8720\n",
      "Epoch 7/10\n",
      "1250/1250 [==============================] - 21s 17ms/step - loss: 0.1995 - accuracy: 0.9209 - val_loss: 0.3413 - val_accuracy: 0.8750\n",
      "Epoch 8/10\n",
      "1250/1250 [==============================] - 22s 17ms/step - loss: 0.1795 - accuracy: 0.9320 - val_loss: 0.3312 - val_accuracy: 0.8754\n",
      "Epoch 9/10\n",
      "1250/1250 [==============================] - 21s 17ms/step - loss: 0.1587 - accuracy: 0.9392 - val_loss: 0.3757 - val_accuracy: 0.8672\n",
      "Epoch 10/10\n",
      "1250/1250 [==============================] - 21s 17ms/step - loss: 0.1374 - accuracy: 0.9488 - val_loss: 0.4289 - val_accuracy: 0.8680\n"
     ]
    }
   ],
   "source": [
    "# with masking\n",
    "embed_size = 128\n",
    "tf.random.set_seed(42)\n",
    "model_dl = tf.keras.Sequential([\n",
    "    text_vec_layer,\n",
    "    tf.keras.layers.Embedding(vocab_size, embed_size, mask_zero=True),\n",
    "    tf.keras.layers.GRU(128),\n",
    "    tf.keras.layers.Dense(1, activation=\"sigmoid\")\n",
    "])\n",
    "model_dl.compile(loss=\"binary_crossentropy\", optimizer=\"nadam\",\n",
    "              metrics=[\"accuracy\"])\n",
    "history = model_dl.fit(train_set, validation_data=valid_set, epochs=10)"
   ]
  },
  {
   "cell_type": "markdown",
   "id": "ec9639ed-e8ce-4361-a789-0e49d568b6c0",
   "metadata": {},
   "source": [
    "### Evaluate the model"
   ]
  },
  {
   "cell_type": "code",
   "execution_count": 33,
   "id": "f5ccfe85-ca7e-4f75-8c35-dea9ee4bfc76",
   "metadata": {},
   "outputs": [
    {
     "name": "stdout",
     "output_type": "stream",
     "text": [
      "157/157 [==============================] - 1s 7ms/step - loss: 0.4149 - accuracy: 0.8632\n"
     ]
    },
    {
     "data": {
      "text/plain": [
       "[0.41488534212112427, 0.8632000088691711]"
      ]
     },
     "execution_count": 33,
     "metadata": {},
     "output_type": "execute_result"
    }
   ],
   "source": [
    "dl_eval = model_dl.evaluate(test_set)\n",
    "dl_eval"
   ]
  },
  {
   "cell_type": "code",
   "execution_count": 34,
   "id": "f6767697-119f-4765-b6cd-0f316629eb1b",
   "metadata": {},
   "outputs": [
    {
     "data": {
      "text/plain": [
       "0.8632000088691711"
      ]
     },
     "execution_count": 34,
     "metadata": {},
     "output_type": "execute_result"
    }
   ],
   "source": [
    "dl_acc  = dl_eval[1]\n",
    "dl_acc"
   ]
  },
  {
   "cell_type": "markdown",
   "id": "4646f52c-5ed2-4bee-bc94-6f7c87458d12",
   "metadata": {},
   "source": [
    "## Sentiment Analysis using deep learning and pretrained embedding layers\n",
    "\n",
    "Today you often do not train the embedding layer on your own but use already trained layers. These layers are often available on the different community pages like tensor-hub, hugging-face, pytorch, github,....  \n",
    "\n",
    "Since we are using tensorflow we will use the universal sentence encoder from tensor-hub"
   ]
  },
  {
   "cell_type": "markdown",
   "id": "9b2bf09c-505e-4a3f-8676-9c87d881aa37",
   "metadata": {},
   "source": [
    "### Data preparation\n",
    "The data preparation is again the same as before"
   ]
  },
  {
   "cell_type": "code",
   "execution_count": 35,
   "id": "d77357ed-994c-4181-8a59-8b213d8f8e42",
   "metadata": {},
   "outputs": [],
   "source": [
    "df_pt = df_raw.copy()\n",
    "# Split the dataframe into feature matrix and label vector\n",
    "df_pt['sentiment'] = df_pt['sentiment'].apply(lambda score: 1 if score == 'positive' else 0)\n",
    "X = df_pt.review.values\n",
    "y = df_pt.sentiment.values\n",
    "\n",
    "# Splitting the dataset into train, val and test\n",
    "from sklearn.model_selection import train_test_split\n",
    "X_train, X_test, y_train, y_test = train_test_split(X, y, test_size = 0.20, random_state = 0)\n",
    "X_val, X_test, y_val, y_test = train_test_split(X_test, y_test, test_size = 0.50, random_state = 0)"
   ]
  },
  {
   "cell_type": "code",
   "execution_count": 36,
   "id": "8b1c0676-b035-454f-8cf3-a647d170f8de",
   "metadata": {},
   "outputs": [],
   "source": [
    "tf.random.set_seed(42)\n",
    "train_dataset = tf.data.Dataset.from_tensor_slices((X_train, y_train))\n",
    "val_dataset = tf.data.Dataset.from_tensor_slices((X_val, y_val))\n",
    "test_dataset = tf.data.Dataset.from_tensor_slices((X_test, y_test))"
   ]
  },
  {
   "cell_type": "code",
   "execution_count": 37,
   "id": "597f2192-62b3-4430-bc3d-85713467771a",
   "metadata": {},
   "outputs": [],
   "source": [
    "tf.random.set_seed(42)\n",
    "train_set = train_dataset.shuffle(5000, seed=42).batch(32).prefetch(tf.data.AUTOTUNE)\n",
    "valid_set = val_dataset.batch(32).prefetch(tf.data.AUTOTUNE)\n",
    "test_set = test_dataset.batch(32).prefetch(tf.data.AUTOTUNE)"
   ]
  },
  {
   "cell_type": "code",
   "execution_count": 38,
   "id": "06a47843-420a-4fc0-b73a-a298c88617d4",
   "metadata": {},
   "outputs": [],
   "source": [
    "vocab_size = 1000\n",
    "text_vec_layer = tf.keras.layers.TextVectorization(max_tokens=vocab_size)\n",
    "text_vec_layer.adapt(train_set.map(lambda reviews, labels:reviews))"
   ]
  },
  {
   "cell_type": "markdown",
   "id": "c38eef82-1604-4f9d-a69b-4015e7a6ecb1",
   "metadata": {},
   "source": [
    "### Training the model"
   ]
  },
  {
   "cell_type": "code",
   "execution_count": 40,
   "id": "868cbfdd-bde5-4511-b82f-a68e5b306c57",
   "metadata": {
    "scrolled": true,
    "tags": []
   },
   "outputs": [
    {
     "name": "stdout",
     "output_type": "stream",
     "text": [
      "Epoch 1/10\n",
      "1250/1250 [==============================] - 469s 364ms/step - loss: 0.2600 - accuracy: 0.8923 - val_loss: 0.2285 - val_accuracy: 0.9072\n",
      "Epoch 2/10\n",
      "1250/1250 [==============================] - 94s 75ms/step - loss: 0.0196 - accuracy: 0.9948 - val_loss: 0.4655 - val_accuracy: 0.8778\n",
      "Epoch 3/10\n",
      "1250/1250 [==============================] - 75s 60ms/step - loss: 0.0024 - accuracy: 0.9995 - val_loss: 0.3952 - val_accuracy: 0.9048\n",
      "Epoch 4/10\n",
      "1250/1250 [==============================] - 69s 56ms/step - loss: 3.3239e-04 - accuracy: 1.0000 - val_loss: 0.4559 - val_accuracy: 0.9068\n",
      "Epoch 5/10\n",
      "1250/1250 [==============================] - 65s 52ms/step - loss: 2.5222e-04 - accuracy: 1.0000 - val_loss: 0.5088 - val_accuracy: 0.9044\n",
      "Epoch 6/10\n",
      "1250/1250 [==============================] - 56s 45ms/step - loss: 8.2105e-04 - accuracy: 0.9997 - val_loss: 0.6541 - val_accuracy: 0.9014\n",
      "Epoch 7/10\n",
      "1250/1250 [==============================] - 52s 42ms/step - loss: 0.0025 - accuracy: 0.9992 - val_loss: 0.5358 - val_accuracy: 0.9020\n",
      "Epoch 8/10\n",
      "1250/1250 [==============================] - 58s 47ms/step - loss: 0.0031 - accuracy: 0.9990 - val_loss: 0.6154 - val_accuracy: 0.8974\n",
      "Epoch 9/10\n",
      "1250/1250 [==============================] - 56s 45ms/step - loss: 9.9263e-04 - accuracy: 0.9997 - val_loss: 0.6789 - val_accuracy: 0.8986\n",
      "Epoch 10/10\n",
      "1250/1250 [==============================] - 51s 41ms/step - loss: 9.6322e-06 - accuracy: 1.0000 - val_loss: 0.7154 - val_accuracy: 0.9000\n"
     ]
    },
    {
     "data": {
      "text/plain": [
       "<keras.callbacks.History at 0x7f15ac156790>"
      ]
     },
     "execution_count": 40,
     "metadata": {},
     "output_type": "execute_result"
    }
   ],
   "source": [
    "import os\n",
    "import tensorflow_hub as hub\n",
    "\n",
    "os.environ[\"TFHUB_CACHE_DIR\"] = \"my_tfhub_cache\"\n",
    "tf.random.set_seed(42)  \n",
    "\n",
    "model_pt = tf.keras.Sequential([\n",
    "    hub.KerasLayer(\"https://tfhub.dev/google/universal-sentence-encoder/4\",\n",
    "                   trainable=True, dtype=tf.string, input_shape=[]),\n",
    "    tf.keras.layers.Dense(64, activation=\"relu\"),\n",
    "    tf.keras.layers.Dense(1, activation=\"sigmoid\")\n",
    "])\n",
    "model_pt.compile(loss=\"binary_crossentropy\", optimizer=\"nadam\",\n",
    "              metrics=[\"accuracy\"])\n",
    "model_pt.fit(train_set, validation_data=valid_set, epochs=10)"
   ]
  },
  {
   "cell_type": "code",
   "execution_count": 41,
   "id": "39495b64-94dc-4cad-9064-e3d86a15328e",
   "metadata": {},
   "outputs": [
    {
     "name": "stdout",
     "output_type": "stream",
     "text": [
      "157/157 [==============================] - 2s 11ms/step - loss: 0.7630 - accuracy: 0.9012\n"
     ]
    },
    {
     "data": {
      "text/plain": [
       "[0.7630078792572021, 0.901199996471405]"
      ]
     },
     "execution_count": 41,
     "metadata": {},
     "output_type": "execute_result"
    }
   ],
   "source": [
    "pt_eval = model_pt.evaluate(test_set)\n",
    "pt_eval"
   ]
  },
  {
   "cell_type": "code",
   "execution_count": 42,
   "id": "151abc4c-eab4-488f-93de-f0863387bf50",
   "metadata": {},
   "outputs": [
    {
     "data": {
      "text/plain": [
       "0.901199996471405"
      ]
     },
     "execution_count": 42,
     "metadata": {},
     "output_type": "execute_result"
    }
   ],
   "source": [
    "pt_acc = pt_eval[1]\n",
    "pt_acc"
   ]
  },
  {
   "cell_type": "markdown",
   "id": "b04ae32d-5ae5-4af8-9563-00a66a6d7c07",
   "metadata": {},
   "source": [
    "## Evaluation\n",
    "\n",
    "In reality you build a model, train it evaluate it, improve it, train it, evaluate it and so on and so on.  \n",
    "There are a lot of angles that can be attacked:\n",
    "* Get more data\n",
    "* Preprocess data better\n",
    "* Tune hyperparameters of the ML and DL networks\n",
    "* Find and use a better embedding technique or layer  \n",
    "\n",
    "This is usually a long and iterative process. But we will end this introduction by comparing the accuracy results of our different approaches "
   ]
  },
  {
   "cell_type": "code",
   "execution_count": 65,
   "id": "ef1d60f4-c4b5-4505-bc83-43576df2996c",
   "metadata": {},
   "outputs": [
    {
     "data": {
      "text/html": [
       "<div>\n",
       "<style scoped>\n",
       "    .dataframe tbody tr th:only-of-type {\n",
       "        vertical-align: middle;\n",
       "    }\n",
       "\n",
       "    .dataframe tbody tr th {\n",
       "        vertical-align: top;\n",
       "    }\n",
       "\n",
       "    .dataframe thead th {\n",
       "        text-align: right;\n",
       "    }\n",
       "</style>\n",
       "<table border=\"1\" class=\"dataframe\">\n",
       "  <thead>\n",
       "    <tr style=\"text-align: right;\">\n",
       "      <th></th>\n",
       "      <th>Methods</th>\n",
       "      <th>Accuracy</th>\n",
       "    </tr>\n",
       "  </thead>\n",
       "  <tbody>\n",
       "    <tr>\n",
       "      <th>0</th>\n",
       "      <td>spacy</td>\n",
       "      <td>0.68828</td>\n",
       "    </tr>\n",
       "    <tr>\n",
       "      <th>1</th>\n",
       "      <td>vader</td>\n",
       "      <td>0.69626</td>\n",
       "    </tr>\n",
       "    <tr>\n",
       "      <th>2</th>\n",
       "      <td>ml</td>\n",
       "      <td>0.87880</td>\n",
       "    </tr>\n",
       "    <tr>\n",
       "      <th>3</th>\n",
       "      <td>dl</td>\n",
       "      <td>0.86320</td>\n",
       "    </tr>\n",
       "    <tr>\n",
       "      <th>4</th>\n",
       "      <td>pretrained-dl</td>\n",
       "      <td>0.90120</td>\n",
       "    </tr>\n",
       "  </tbody>\n",
       "</table>\n",
       "</div>"
      ],
      "text/plain": [
       "         Methods  Accuracy\n",
       "0          spacy   0.68828\n",
       "1          vader   0.69626\n",
       "2             ml   0.87880\n",
       "3             dl   0.86320\n",
       "4  pretrained-dl   0.90120"
      ]
     },
     "execution_count": 65,
     "metadata": {},
     "output_type": "execute_result"
    }
   ],
   "source": [
    "accuracy_values = [spacy_acc, nltk_acc, ml_acc, dl_acc, pt_acc]\n",
    "#accuracy_values = [spacy_acc, nltk_acc]\n",
    "methods = ['spacy', 'vader', 'ml', 'dl', 'pretrained-dl']\n",
    "accuracy_df = pd.DataFrame(zip(methods, accuracy_values), columns=['Methods','Accuracy'])\n",
    "accuracy_df"
   ]
  },
  {
   "cell_type": "code",
   "execution_count": 66,
   "id": "06aad7b8-03b3-450c-9e67-2f280f07669c",
   "metadata": {},
   "outputs": [
    {
     "data": {
      "text/plain": [
       "<Axes: >"
      ]
     },
     "execution_count": 66,
     "metadata": {},
     "output_type": "execute_result"
    },
    {
     "data": {
      "image/png": "[encoded data removed]",
      "text/plain": [
       "<Figure size 640x480 with 1 Axes>"
      ]
     },
     "metadata": {},
     "output_type": "display_data"
    }
   ],
   "source": [
    "accuracy_df.plot.bar()"
   ]
  },
  {
   "cell_type": "markdown",
   "id": "6e0ac8f8-e19f-45ab-a0a0-90425c4e1fd8",
   "metadata": {},
   "source": [
    "## Use the dl model to make predictions on new text"
   ]
  },
  {
   "cell_type": "code",
   "execution_count": 44,
   "id": "06a29a07-67f7-4ed4-8b1b-694add815f5b",
   "metadata": {},
   "outputs": [],
   "source": [
    "text_as_tensor = tf.convert_to_tensor(\"The movie was great. It was the best movie I have seen in my live\")"
   ]
  },
  {
   "cell_type": "code",
   "execution_count": 45,
   "id": "e13977b6-9c35-4c21-860e-ec8c7a1b87cb",
   "metadata": {},
   "outputs": [
    {
     "name": "stdout",
     "output_type": "stream",
     "text": [
      "1/1 [==============================] - 0s 149ms/step\n"
     ]
    },
    {
     "data": {
      "text/plain": [
       "array([[0.9999962]], dtype=float32)"
      ]
     },
     "execution_count": 45,
     "metadata": {},
     "output_type": "execute_result"
    }
   ],
   "source": [
    "prediction = model_pt.predict(tf.expand_dims(text_as_tensor, axis=0))\n",
    "prediction"
   ]
  },
  {
   "cell_type": "code",
   "execution_count": 46,
   "id": "3bd3e847-8d8f-47dc-9bab-da6fd311775d",
   "metadata": {},
   "outputs": [
    {
     "data": {
      "text/plain": [
       "<tf.Tensor: shape=(1, 1), dtype=float32, numpy=array([[1.]], dtype=float32)>"
      ]
     },
     "execution_count": 46,
     "metadata": {},
     "output_type": "execute_result"
    }
   ],
   "source": [
    "result = tf.round(prediction)\n",
    "result"
   ]
  },
  {
   "cell_type": "markdown",
   "id": "278ea268-994f-4e3a-ad53-e584bf7b546b",
   "metadata": {},
   "source": [
    "### Lets test a few review"
   ]
  },
  {
   "cell_type": "code",
   "execution_count": 47,
   "id": "9f78b5ed-fbc5-4a83-b505-60d79cee7693",
   "metadata": {},
   "outputs": [],
   "source": [
    "examples = [\"One of the other reviewers has mentioned that after watching just 1 Oz episode you'll be hooked. They are right, as this is exactly what happened with me.<br /><br />The first thing that struck me about Oz was its brutality and unflinching scenes of violence, which set in right from the word GO. Trust me, this is not a show for the faint hearted or timid. This show pulls no punches with regards to drugs, sex or violence. Its is hardcore, in the classic use of the word.<br /><br />It is called OZ as that is the nickname given to the Oswald Maximum Security State Penitentary. It focuses mainly on Emerald City, an experimental section of the prison where all the cells have glass fronts and face inwards, so privacy is not high on the agenda. Em City is home to many..Aryans, Muslims, gangstas, Latinos, Christians, Italians, Irish and more....so scuffles, death stares, dodgy dealings and shady agreements are never far away.<br /><br />I would say the main appeal of the show is due to the fact that it goes where other shows wouldn't dare. Forget pretty pictures painted for mainstream audiences, forget charm, forget romance...OZ doesn't mess around. The first episode I ever saw struck me as so nasty it was surreal, I couldn't say I was ready for it, but as I watched more, I developed a taste for Oz, and got accustomed to the high levels of graphic violence. Not just violence, but injustice (crooked guards who'll be sold out for a nickel, inmates who'll kill on order and get away with it, well mannered, middle class inmates being turned into prison bitches due to their lack of street skills or prison experience) Watching Oz, you may become comfortable with what is uncomfortable viewing....thats if you can get in touch with your darker side.\",\n",
    "           \"A wonderful little production. <br /><br />The filming technique is very unassuming- very old-time-BBC fashion and gives a comforting, and sometimes discomforting, sense of realism to the entire piece. <br /><br />The actors are extremely well chosen- Michael Sheen not only has got all the polari but he has all the voices down pat too! You can truly see the seamless editing guided by the references to Williams' diary entries, not only is it well worth the watching but it is a terrificly written and performed piece. A masterful production about one of the great master's of comedy and his life. <br /><br />The realism really comes home with the little things: the fantasy of the guard which, rather than use the traditional 'dream' techniques remains solid then disappears. It plays on our knowledge and our senses, particularly with the scenes concerning Orton and Halliwell and the sets (particularly of their flat with Halliwell's murals decorating every surface) are terribly well done.\",\n",
    "           \"I thought this was a wonderful way to spend time on a too hot summer weekend, sitting in the air conditioned theater and watching a light-hearted comedy. The plot is simplistic, but the dialogue is witty and the characters are likable (even the well bread suspected serial killer). While some may be disappointed when they realize this is not Match Point 2: Risk Addiction, I thought it was proof that Woody Allen is still fully in control of the style many of us have grown to love.<br /><br />This was the most I'd laughed at one of Woody's comedies in years (dare I say a decade?). While I've never been impressed with Scarlet Johanson, in this she managed to tone down her sexy image and jumped right into a average, but spirited young woman.<br /><br />This may not be the crown jewel of his career, but it was wittier than Devil Wears Prada and more interesting than Superman a great comedy to go see with friends.\",\n",
    "           \"Basically there's a family where a little boy (Jake) thinks there's a zombie in his closet & his parents are fighting all the time.<br /><br />This movie is slower than a soap opera... and suddenly, Jake decides to become Rambo and kill the zombie.<br /><br />OK, first of all when you're going to make a film you must Decide if its a thriller or a drama! As a drama the movie is watchable. Parents are divorcing & arguing like in real life. And then we have Jake with his closet which totally ruins all the film! I expected to see a BOOGEYMAN similar movie, and instead i watched a drama with some meaningless thriller spots.<br /><br />3 out of 10 just for the well playing parents & descent dialogs. As for the shots with Jake: just ignore them.\",\n",
    "           \"Petter Mattei's Love in the Time of Money is a visually stunning film to watch. Mr. Mattei offers us a vivid portrait about human relations. This is a movie that seems to be telling us what money, power and success do to people in the different situations we encounter. <br /><br />This being a variation on the Arthur Schnitzler's play about the same theme, the director transfers the action to the present time New York where all these different characters meet and connect. Each one is connected in one way, or another to the next person, but no one seems to know the previous point of contact. Stylishly, the film has a sophisticated luxurious look. We are taken to see how these people live and the world they live in their own habitat.<br /><br />The only thing one gets out of all these souls in the picture is the different stages of loneliness each one inhabits. A big city is not exactly the best place in which human relations find sincere fulfillment, as one discerns is the case with most of the people we encounter.<br /><br />The acting is good under Mr. Mattei's direction. Steve Buscemi, Rosario Dawson, Carol Kane, Michael Imperioli, Adrian Grenier, and the rest of the talented cast, make these characters come alive.<br /><br />We wish Mr. Mattei good luck and await anxiously for his next work.\"]"
   ]
  },
  {
   "cell_type": "code",
   "execution_count": 48,
   "id": "069023b0-0ac9-4b69-90b0-c89836fdb4d0",
   "metadata": {},
   "outputs": [],
   "source": [
    "text_as_tensor = tf.convert_to_tensor(examples)"
   ]
  },
  {
   "cell_type": "code",
   "execution_count": 49,
   "id": "8114dc4e-4307-415f-8289-6187639531d6",
   "metadata": {},
   "outputs": [
    {
     "name": "stdout",
     "output_type": "stream",
     "text": [
      "1/1 [==============================] - 0s 13ms/step\n"
     ]
    },
    {
     "data": {
      "text/plain": [
       "array([[9.9999535e-01],\n",
       "       [9.9999607e-01],\n",
       "       [9.9999619e-01],\n",
       "       [2.8069958e-06],\n",
       "       [9.9999654e-01]], dtype=float32)"
      ]
     },
     "execution_count": 49,
     "metadata": {},
     "output_type": "execute_result"
    }
   ],
   "source": [
    "prediction = model_pt.predict(text_as_tensor)\n",
    "prediction"
   ]
  },
  {
   "cell_type": "code",
   "execution_count": 50,
   "id": "115617db-be18-46c6-add5-f5795522ecd4",
   "metadata": {},
   "outputs": [
    {
     "data": {
      "text/plain": [
       "<tf.Tensor: shape=(5, 1), dtype=float32, numpy=\n",
       "array([[1.],\n",
       "       [1.],\n",
       "       [1.],\n",
       "       [0.],\n",
       "       [1.]], dtype=float32)>"
      ]
     },
     "execution_count": 50,
     "metadata": {},
     "output_type": "execute_result"
    }
   ],
   "source": [
    "result = tf.round(prediction)\n",
    "result"
   ]
  },
  {
   "cell_type": "code",
   "execution_count": 51,
   "id": "21b92df5-828a-4dda-a96a-1a41aa2fa444",
   "metadata": {},
   "outputs": [
    {
     "data": {
      "text/html": [
       "<div>\n",
       "<style scoped>\n",
       "    .dataframe tbody tr th:only-of-type {\n",
       "        vertical-align: middle;\n",
       "    }\n",
       "\n",
       "    .dataframe tbody tr th {\n",
       "        vertical-align: top;\n",
       "    }\n",
       "\n",
       "    .dataframe thead th {\n",
       "        text-align: right;\n",
       "    }\n",
       "</style>\n",
       "<table border=\"1\" class=\"dataframe\">\n",
       "  <thead>\n",
       "    <tr style=\"text-align: right;\">\n",
       "      <th></th>\n",
       "      <th>review</th>\n",
       "      <th>sentiment</th>\n",
       "    </tr>\n",
       "  </thead>\n",
       "  <tbody>\n",
       "    <tr>\n",
       "      <th>0</th>\n",
       "      <td>One of the other reviewers has mentioned that ...</td>\n",
       "      <td>positive</td>\n",
       "    </tr>\n",
       "    <tr>\n",
       "      <th>1</th>\n",
       "      <td>A wonderful little production. &lt;br /&gt;&lt;br /&gt;The...</td>\n",
       "      <td>positive</td>\n",
       "    </tr>\n",
       "    <tr>\n",
       "      <th>2</th>\n",
       "      <td>I thought this was a wonderful way to spend ti...</td>\n",
       "      <td>positive</td>\n",
       "    </tr>\n",
       "    <tr>\n",
       "      <th>3</th>\n",
       "      <td>Basically there's a family where a little boy ...</td>\n",
       "      <td>negative</td>\n",
       "    </tr>\n",
       "    <tr>\n",
       "      <th>4</th>\n",
       "      <td>Petter Mattei's \"Love in the Time of Money\" is...</td>\n",
       "      <td>positive</td>\n",
       "    </tr>\n",
       "  </tbody>\n",
       "</table>\n",
       "</div>"
      ],
      "text/plain": [
       "                                              review sentiment\n",
       "0  One of the other reviewers has mentioned that ...  positive\n",
       "1  A wonderful little production. <br /><br />The...  positive\n",
       "2  I thought this was a wonderful way to spend ti...  positive\n",
       "3  Basically there's a family where a little boy ...  negative\n",
       "4  Petter Mattei's \"Love in the Time of Money\" is...  positive"
      ]
     },
     "execution_count": 51,
     "metadata": {},
     "output_type": "execute_result"
    }
   ],
   "source": [
    "df_raw.head()"
   ]
  },
  {
   "cell_type": "markdown",
   "id": "0f16019e-656e-4a79-97bc-1185177ab217",
   "metadata": {},
   "source": [
    "#### Lets try again but this time lets preprocess the examples"
   ]
  },
  {
   "cell_type": "code",
   "execution_count": 52,
   "id": "0fc6b100-ec7a-4139-b755-6a4ba252c083",
   "metadata": {},
   "outputs": [
    {
     "name": "stderr",
     "output_type": "stream",
     "text": [
      "/tmp/ipykernel_321225/3594588132.py:3: FutureWarning: The default value of regex will change from True to False in a future version.\n",
      "  df_examples['review'] = df_examples['review'].str.replace(\"[^^a-zA-Z#]\", \" \")\n"
     ]
    },
    {
     "data": {
      "text/html": [
       "<div>\n",
       "<style scoped>\n",
       "    .dataframe tbody tr th:only-of-type {\n",
       "        vertical-align: middle;\n",
       "    }\n",
       "\n",
       "    .dataframe tbody tr th {\n",
       "        vertical-align: top;\n",
       "    }\n",
       "\n",
       "    .dataframe thead th {\n",
       "        text-align: right;\n",
       "    }\n",
       "</style>\n",
       "<table border=\"1\" class=\"dataframe\">\n",
       "  <thead>\n",
       "    <tr style=\"text-align: right;\">\n",
       "      <th></th>\n",
       "      <th>review</th>\n",
       "    </tr>\n",
       "  </thead>\n",
       "  <tbody>\n",
       "    <tr>\n",
       "      <th>0</th>\n",
       "      <td>reviewer mention watch episode hook right exac...</td>\n",
       "    </tr>\n",
       "    <tr>\n",
       "      <th>1</th>\n",
       "      <td>wonderful little production filming technique ...</td>\n",
       "    </tr>\n",
       "    <tr>\n",
       "      <th>2</th>\n",
       "      <td>think wonderful way spend time hot summer week...</td>\n",
       "    </tr>\n",
       "    <tr>\n",
       "      <th>3</th>\n",
       "      <td>basically family little boy jake think zombie ...</td>\n",
       "    </tr>\n",
       "    <tr>\n",
       "      <th>4</th>\n",
       "      <td>petter mattei love time money visually stunnin...</td>\n",
       "    </tr>\n",
       "  </tbody>\n",
       "</table>\n",
       "</div>"
      ],
      "text/plain": [
       "                                              review\n",
       "0  reviewer mention watch episode hook right exac...\n",
       "1  wonderful little production filming technique ...\n",
       "2  think wonderful way spend time hot summer week...\n",
       "3  basically family little boy jake think zombie ...\n",
       "4  petter mattei love time money visually stunnin..."
      ]
     },
     "execution_count": 52,
     "metadata": {},
     "output_type": "execute_result"
    }
   ],
   "source": [
    "# Remove punctuation with the help of regex\n",
    "df_examples = pd.DataFrame(examples, columns=['review'])\n",
    "df_examples['review'] = df_examples['review'].str.replace(\"[^^a-zA-Z#]\", \" \")\n",
    "\n",
    "\n",
    "# Replace short words like br\n",
    "df_examples['review'] = df_examples['review'].apply(lambda x: ' '.join([w for w in x.split() if len(w)>2]))\n",
    "\n",
    "\n",
    "# make text lowercase\n",
    "df_examples['review'] = [review.lower() for review in df_examples['review']]\n",
    "df_examples.head()\n",
    "\n",
    "\n",
    "stop_words = nlp.Defaults.stop_words\n",
    "new_sw_words = ['movie','film','one','make','even']\n",
    "for word in new_sw_words:\n",
    "    stop_words.add(word)\n",
    "    \n",
    "def remove_sw(review):\n",
    "    words = [word for word in review.split() if not word in stop_words]\n",
    "    return \" \".join(words)\n",
    "\n",
    "# Now we can use the function to remove all stopwords from our dataset\n",
    "df_examples['review'] = df_examples['review'].apply(lambda review: remove_sw(review))\n",
    "\n",
    "\n",
    "lemma_text_list = []\n",
    "for doc in nlp.pipe(df_examples[\"review\"]):\n",
    "    lemma_text_list.append(\" \".join(token.lemma_ for token in doc))\n",
    "df_examples[\"review\"] = lemma_text_list\n",
    "df_examples.head()"
   ]
  },
  {
   "cell_type": "code",
   "execution_count": 53,
   "id": "3fc80167-0fb8-4864-bb22-74453b315336",
   "metadata": {},
   "outputs": [
    {
     "name": "stdout",
     "output_type": "stream",
     "text": [
      "1/1 [==============================] - 0s 11ms/step\n"
     ]
    },
    {
     "data": {
      "text/plain": [
       "array([[9.9982589e-01],\n",
       "       [9.9999607e-01],\n",
       "       [9.9998760e-01],\n",
       "       [4.5636320e-06],\n",
       "       [9.9999499e-01]], dtype=float32)"
      ]
     },
     "execution_count": 53,
     "metadata": {},
     "output_type": "execute_result"
    }
   ],
   "source": [
    "example_tensors = tf.convert_to_tensor(tf.squeeze(df_examples, axis=1))\n",
    "prediction = model_pt.predict(example_tensors)\n",
    "prediction"
   ]
  },
  {
   "cell_type": "code",
   "execution_count": 54,
   "id": "ff5b6ad3-a4be-4891-a5af-e7ce27edef83",
   "metadata": {},
   "outputs": [
    {
     "data": {
      "text/plain": [
       "<tf.Tensor: shape=(5, 1), dtype=float32, numpy=\n",
       "array([[1.],\n",
       "       [1.],\n",
       "       [1.],\n",
       "       [0.],\n",
       "       [1.]], dtype=float32)>"
      ]
     },
     "execution_count": 54,
     "metadata": {},
     "output_type": "execute_result"
    }
   ],
   "source": [
    "result = tf.round(prediction)\n",
    "result"
   ]
  },
  {
   "cell_type": "code",
   "execution_count": 55,
   "id": "48cffba1-6eac-4e53-9189-4adeef1d4f4d",
   "metadata": {},
   "outputs": [
    {
     "data": {
      "text/html": [
       "<div>\n",
       "<style scoped>\n",
       "    .dataframe tbody tr th:only-of-type {\n",
       "        vertical-align: middle;\n",
       "    }\n",
       "\n",
       "    .dataframe tbody tr th {\n",
       "        vertical-align: top;\n",
       "    }\n",
       "\n",
       "    .dataframe thead th {\n",
       "        text-align: right;\n",
       "    }\n",
       "</style>\n",
       "<table border=\"1\" class=\"dataframe\">\n",
       "  <thead>\n",
       "    <tr style=\"text-align: right;\">\n",
       "      <th></th>\n",
       "      <th>review</th>\n",
       "      <th>sentiment</th>\n",
       "    </tr>\n",
       "  </thead>\n",
       "  <tbody>\n",
       "    <tr>\n",
       "      <th>0</th>\n",
       "      <td>One of the other reviewers has mentioned that ...</td>\n",
       "      <td>positive</td>\n",
       "    </tr>\n",
       "    <tr>\n",
       "      <th>1</th>\n",
       "      <td>A wonderful little production. &lt;br /&gt;&lt;br /&gt;The...</td>\n",
       "      <td>positive</td>\n",
       "    </tr>\n",
       "    <tr>\n",
       "      <th>2</th>\n",
       "      <td>I thought this was a wonderful way to spend ti...</td>\n",
       "      <td>positive</td>\n",
       "    </tr>\n",
       "    <tr>\n",
       "      <th>3</th>\n",
       "      <td>Basically there's a family where a little boy ...</td>\n",
       "      <td>negative</td>\n",
       "    </tr>\n",
       "    <tr>\n",
       "      <th>4</th>\n",
       "      <td>Petter Mattei's \"Love in the Time of Money\" is...</td>\n",
       "      <td>positive</td>\n",
       "    </tr>\n",
       "  </tbody>\n",
       "</table>\n",
       "</div>"
      ],
      "text/plain": [
       "                                              review sentiment\n",
       "0  One of the other reviewers has mentioned that ...  positive\n",
       "1  A wonderful little production. <br /><br />The...  positive\n",
       "2  I thought this was a wonderful way to spend ti...  positive\n",
       "3  Basically there's a family where a little boy ...  negative\n",
       "4  Petter Mattei's \"Love in the Time of Money\" is...  positive"
      ]
     },
     "execution_count": 55,
     "metadata": {},
     "output_type": "execute_result"
    }
   ],
   "source": [
    "df_raw.head()"
   ]
  },
  {
   "cell_type": "code",
   "execution_count": null,
   "id": "5c7fd69f-ce1e-4770-935b-b996e4d915f9",
   "metadata": {},
   "outputs": [],
   "source": []
  }
 ],
 "metadata": {
  "kernelspec": {
   "display_name": "Python 3 (ipykernel)",
   "language": "python",
   "name": "python3"
  },
  "language_info": {
   "codemirror_mode": {
    "name": "ipython",
    "version": 3
   },
   "file_extension": ".py",
   "mimetype": "text/x-python",
   "name": "python",
   "nbconvert_exporter": "python",
   "pygments_lexer": "ipython3",
   "version": "3.9.16"
  }
 },
 "nbformat": 4,
 "nbformat_minor": 5
}
